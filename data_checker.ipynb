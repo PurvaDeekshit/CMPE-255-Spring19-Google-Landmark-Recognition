{
  "cells": [
    {
      "cell_type": "code",
      "execution_count": 1,
      "metadata": {
        "collapsed": true,
        "pycharm": {
          "is_executing": false
        }
      },
      "outputs": [],
      "source": "import pandas as pd\nimport cv2\nfrom slacker import Slacker\nimport numpy as np\n\nimport requests\nfrom io import BytesIO\n\ndf \u003d pd.read_csv(\u0027/Users/saching12/Desktop/python codes/Google_landmark_recognition/train.csv\u0027)\npd.options.display.max_colwidth \u003d 200\n"
    },
    {
      "cell_type": "code",
      "execution_count": 3,
      "outputs": [
        {
          "data": {
            "text/plain": "203094"
          },
          "metadata": {},
          "output_type": "execute_result",
          "execution_count": 3
        }
      ],
      "source": "len(df.landmark_id.unique())\n\n",
      "metadata": {
        "pycharm": {
          "metadata": false,
          "name": "#%%\n",
          "is_executing": false
        }
      }
    },
    {
      "cell_type": "code",
      "execution_count": null,
      "outputs": [],
      "source": "slack \u003d Slacker(slack_token_id)\n\ndef report_stats(text):\n    \"\"\"Report training stats\"\"\"\n    r \u003d slack.chat.post_message(channel\u003d\u0027handwrittendigit\u0027, text\u003dtext,\n                                username\u003d\u0027Training Report\u0027,\n                                icon_emoji\u003d\u0027:clipboard:\u0027)\n\n    if r.successful:\n        return True\n    else:\n        return r.error\n",
      "metadata": {
        "pycharm": {
          "metadata": false,
          "name": "#%%\n"
        }
      }
    },
    {
      "cell_type": "code",
      "execution_count": 2,
      "outputs": [
        {
          "name": "stdout",
          "text": [
            "(3132914, 3)\n"
          ],
          "output_type": "stream"
        },
        {
          "data": {
            "text/plain": "                       id  \\\n1000000  28840a1737a975b2   \n1000001  d1da27bb3424590a   \n1000002  7523443fcf4d71e1   \n1000003  32afe8741c238365   \n1000004  b4b5d832b1491709   \n\n                                                                                                                               url  \\\n1000000  http://upload.wikimedia.org/wikipedia/commons/2/22/130922_Windsor_Hotel_Toya_Resort_%26_Spa_Toyako_Hokkaido_Japan13s5.jpg   \n1000001                            http://upload.wikimedia.org/wikipedia/commons/4/4e/L%C3%B6rrach-St._Peter_-_Betons%C3%A4ule.jpg   \n1000002                      https://upload.wikimedia.org/wikipedia/commons/7/71/SALMON_GLACIER%2C_STEWART%2C_BRITISH_COLUMBIA.jpg   \n1000003                      https://upload.wikimedia.org/wikipedia/commons/d/de/Zapis-1142-Sikirica-dud-u-parku_20170416_0780.jpg   \n1000004                                https://upload.wikimedia.org/wikipedia/commons/f/f4/Pester_plateau_in_Serbia_-_9560.CR2.jpg   \n\n         landmark_id  \n1000000        96391  \n1000001        62840  \n1000002        84768  \n1000003        13554  \n1000004       139894  ",
            "text/html": "\u003cdiv\u003e\n\u003cstyle scoped\u003e\n    .dataframe tbody tr th:only-of-type {\n        vertical-align: middle;\n    }\n\n    .dataframe tbody tr th {\n        vertical-align: top;\n    }\n\n    .dataframe thead th {\n        text-align: right;\n    }\n\u003c/style\u003e\n\u003ctable border\u003d\"1\" class\u003d\"dataframe\"\u003e\n  \u003cthead\u003e\n    \u003ctr style\u003d\"text-align: right;\"\u003e\n      \u003cth\u003e\u003c/th\u003e\n      \u003cth\u003eid\u003c/th\u003e\n      \u003cth\u003eurl\u003c/th\u003e\n      \u003cth\u003elandmark_id\u003c/th\u003e\n    \u003c/tr\u003e\n  \u003c/thead\u003e\n  \u003ctbody\u003e\n    \u003ctr\u003e\n      \u003cth\u003e1000000\u003c/th\u003e\n      \u003ctd\u003e28840a1737a975b2\u003c/td\u003e\n      \u003ctd\u003ehttp://upload.wikimedia.org/wikipedia/commons/2/22/130922_Windsor_Hotel_Toya_Resort_%26_Spa_Toyako_Hokkaido_Japan13s5.jpg\u003c/td\u003e\n      \u003ctd\u003e96391\u003c/td\u003e\n    \u003c/tr\u003e\n    \u003ctr\u003e\n      \u003cth\u003e1000001\u003c/th\u003e\n      \u003ctd\u003ed1da27bb3424590a\u003c/td\u003e\n      \u003ctd\u003ehttp://upload.wikimedia.org/wikipedia/commons/4/4e/L%C3%B6rrach-St._Peter_-_Betons%C3%A4ule.jpg\u003c/td\u003e\n      \u003ctd\u003e62840\u003c/td\u003e\n    \u003c/tr\u003e\n    \u003ctr\u003e\n      \u003cth\u003e1000002\u003c/th\u003e\n      \u003ctd\u003e7523443fcf4d71e1\u003c/td\u003e\n      \u003ctd\u003ehttps://upload.wikimedia.org/wikipedia/commons/7/71/SALMON_GLACIER%2C_STEWART%2C_BRITISH_COLUMBIA.jpg\u003c/td\u003e\n      \u003ctd\u003e84768\u003c/td\u003e\n    \u003c/tr\u003e\n    \u003ctr\u003e\n      \u003cth\u003e1000003\u003c/th\u003e\n      \u003ctd\u003e32afe8741c238365\u003c/td\u003e\n      \u003ctd\u003ehttps://upload.wikimedia.org/wikipedia/commons/d/de/Zapis-1142-Sikirica-dud-u-parku_20170416_0780.jpg\u003c/td\u003e\n      \u003ctd\u003e13554\u003c/td\u003e\n    \u003c/tr\u003e\n    \u003ctr\u003e\n      \u003cth\u003e1000004\u003c/th\u003e\n      \u003ctd\u003eb4b5d832b1491709\u003c/td\u003e\n      \u003ctd\u003ehttps://upload.wikimedia.org/wikipedia/commons/f/f4/Pester_plateau_in_Serbia_-_9560.CR2.jpg\u003c/td\u003e\n      \u003ctd\u003e139894\u003c/td\u003e\n    \u003c/tr\u003e\n  \u003c/tbody\u003e\n\u003c/table\u003e\n\u003c/div\u003e"
          },
          "metadata": {},
          "output_type": "execute_result",
          "execution_count": 2
        }
      ],
      "source": "df \u003d df[1000000:]\nprint(df.shape)\n\ndf.head(5)\n",
      "metadata": {
        "pycharm": {
          "metadata": false,
          "name": "#%%\n",
          "is_executing": false
        }
      }
    },
    {
      "cell_type": "code",
      "execution_count": 9,
      "outputs": [
        {
          "name": "stdout",
          "text": [
            "6e158a47eb2ca3f6\n"
          ],
          "output_type": "stream"
        },
        {
          "data": {
            "text/plain": "array([[[118, 132, 131],\n        [119, 133, 132],\n        [119, 133, 132],\n        ...,\n        [124, 134, 134],\n        [126, 136, 136],\n        [127, 137, 137]],\n\n       [[115, 129, 128],\n        [117, 131, 130],\n        [118, 132, 131],\n        ...,\n        [125, 135, 135],\n        [126, 136, 136],\n        [126, 136, 136]],\n\n       [[112, 126, 125],\n        [114, 128, 127],\n        [116, 130, 129],\n        ...,\n        [126, 136, 136],\n        [126, 136, 136],\n        [126, 136, 136]],\n\n       ...,\n\n       [[112, 128, 127],\n        [111, 127, 126],\n        [112, 128, 127],\n        ...,\n        [ 49,  65,  78],\n        [ 43,  60,  73],\n        [ 42,  59,  72]],\n\n       [[110, 126, 125],\n        [109, 125, 124],\n        [110, 126, 125],\n        ...,\n        [ 48,  64,  77],\n        [ 43,  59,  72],\n        [ 41,  57,  70]],\n\n       [[110, 126, 125],\n        [110, 126, 125],\n        [111, 127, 126],\n        ...,\n        [ 48,  64,  77],\n        [ 43,  59,  72],\n        [ 42,  58,  71]]], dtype\u003duint8)"
          },
          "metadata": {},
          "output_type": "display_data"
        }
      ],
      "source": "for index, row in df.iterrows():\n    try:\n        response \u003d requests.get(row.url)\n        image \u003d np.asarray(bytearray(response.content), dtype\u003d\"uint8\")\n        image \u003d cv2.imdecode(image, cv2.IMREAD_COLOR)\n        resized_image \u003d cv2.resize(image, (300, 300))\n        filename \u003d row.id + \u0027jpg\u0027\n        cv2.imwrite(filename,resized_image)\n    except Exception as e:\n        report_stats(e)\n        text \u003d \"Exception at row \u003d\"+ index + \"with id:\" + row.id +\"url:\"+row.url\n        report_stats(text)\n    break\n        ",
      "metadata": {
        "pycharm": {
          "metadata": false,
          "name": "#%%\n",
          "is_executing": false
        }
      }
    },
    {
      "cell_type": "code",
      "execution_count": null,
      "outputs": [],
      "source": "\nvar \u003d df[df[\u0027id\u0027] \u003d\u003d \u0027000a00df314b41c1\u0027].url\nvar \u003d str(var)\nvar\nfrom PIL import Image",
      "metadata": {
        "pycharm": {
          "metadata": false,
          "name": "#%%\n"
        }
      }
    }
  ],
  "metadata": {
    "language_info": {
      "codemirror_mode": {
        "name": "ipython",
        "version": 2
      },
      "file_extension": ".py",
      "mimetype": "text/x-python",
      "name": "python",
      "nbconvert_exporter": "python",
      "pygments_lexer": "ipython2",
      "version": "2.7.6"
    },
    "kernelspec": {
      "name": "python3",
      "language": "python",
      "display_name": "Python 3"
    }
  },
  "nbformat": 4,
  "nbformat_minor": 0
}